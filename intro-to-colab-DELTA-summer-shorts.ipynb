{
 "cells": [
  {
   "cell_type": "markdown",
   "source": [
    "# An Introduction to Google Colaboratory\n",
    "\n",
    "> This notebook contains materials originally developed for a virtual session at the NC State University DELTA [Summer Shorts in Instructional Technologies 2021](https://sites.google.com/ncsu.edu/summer-shorts-2021) delivered on August 6, 2021. Summer Shorts in Instructional Technologies focuses on leveraging innovative NC State learning technologies and strategies to improve student success.\n",
    "\n",
    "This is an interactive, Python computational notebook that provides a hands-on demonstration of using Google Colaboratory, or “Colab” for short. Colab is a computational notebook environment that allows users to run Python code in the browser without having to download or install anything."
   ],
   "metadata": {}
  },
  {
   "cell_type": "markdown",
   "source": [
    "## About the Workshop\n",
    "- agenda and objectives\n",
    "- expectations"
   ],
   "metadata": {}
  },
  {
   "cell_type": "markdown",
   "source": [
    "## What is a computational notebook and what does Google Colab offer?"
   ],
   "metadata": {}
  },
  {
   "cell_type": "markdown",
   "source": [
    "Computational notebooks are a type of literate programming document, where you write and evaluate code, view your data and plots, and write explanations and full text all in one document. While there are many forms of computational notebooks, one of the most common today is the Jupyter notebook, which we see particularly often in data science. Jupyter started in the Python ecosystem, but can now support interactive programming in many different languages. \n",
    "\n",
    "Computational notebooks are a great learning tool, since they allow you to see immediate output and easily document the code you are writing. They are often used to prototype code, where you might need to repeatedly adjust and re-run chunks of code as part of an analysis. You can then export the code into a standard script file, such as a `.py` file. \n",
    "\n",
    "Google Colaboratory is a free-to-use, hosted version of Jupyter. It allows you to create notebooks and run them using Google's servers and processing power, and even offers free access to GPUs. Notebooks are stored in your Google Drive, can be shared with others, and exported to the standard open-source `ipynb` format used by Jupyter or to normal Python files. There are limitations to the memory allocated to each notebook, and to how long notebooks can run, but Google provides a remarkable amount of resources for no financial cost. "
   ],
   "metadata": {}
  },
  {
   "cell_type": "markdown",
   "source": [
    "## A brief overview of a Python notebook and the Colab interface"
   ],
   "metadata": {}
  },
  {
   "cell_type": "markdown",
   "source": [
    "### Cells\n",
    "\n",
    "The main structure of a notebook consists of a column of cells. There are two types of cells in Colab:\n",
    "\n",
    "1. **Text cells** for including formatted, descriptive text\n",
    "1. **Code cells** for writting and executing Python code"
   ],
   "metadata": {}
  },
  {
   "cell_type": "markdown",
   "source": [
    "#### Text Cells\n",
    "\n",
    "Text cells can contain plain text, markdown syntax, or HTML and can be used to add context and formatting to your notebook. Double-click on a text cell to enable edit mode.\n",
    "\n",
    "See the [Markdown Guide](https://www.markdownguide.org/cheat-sheet/) to learn more about the Markdown syntax. Some examples of markdown:\n",
    "\n",
    "# Header 1\n",
    "## Header 2\n",
    "### Header 3\n",
    "#### Header 4\n",
    "##### Header 5\n",
    "\n",
    "A list demonstrating:\n",
    "- **Bold text**\n",
    "- _Italicized text_\n",
    "- [Links](https://www.lib.ncsu.edu/services/data-visualization)\n",
    "- `code`\n",
    "    1. Ordered lists\n",
    "    2. More ordered lists"
   ],
   "metadata": {}
  },
  {
   "cell_type": "markdown",
   "source": [
    "#### Code Cells\n",
    "Code cells contain lines of code, including comments. Output appears just below the cell."
   ],
   "metadata": {}
  },
  {
   "cell_type": "code",
   "execution_count": 1,
   "source": [
    "# Create a list of words\n",
    "animals = [\"chicken\", \"lizard\", \"tiger\", \"cheetah\", \"penguin\", \"crab\"]\n",
    "\n",
    "# For each word in the list\n",
    "for word in animals:\n",
    "    # If the word starts with the letter c\n",
    "    if word.startswith(\"c\" or \"C\"):\n",
    "        # Print out the word\n",
    "        print(word)"
   ],
   "outputs": [
    {
     "output_type": "stream",
     "name": "stdout",
     "text": [
      "chicken\ncheetah\ncrab\n"
     ]
    }
   ],
   "metadata": {}
  },
  {
   "cell_type": "markdown",
   "source": [
    "### Colab User Interface"
   ],
   "metadata": {}
  },
  {
   "cell_type": "markdown",
   "source": [
    "#### Running a cell\n",
    "To run a code cell, you can press the \"play\" button to the left of the cell or use `Ctrl-Enter` for Windows and `Command-Enter` for Macs. For more options, including running multiple cells, use the Runtime tab in the top menu."
   ],
   "metadata": {}
  },
  {
   "cell_type": "code",
   "execution_count": null,
   "source": [
    "# Try running this cell\n",
    "print(\"This cell ran\")"
   ],
   "outputs": [],
   "metadata": {}
  },
  {
   "cell_type": "markdown",
   "source": [
    "#### Table of Contents\n",
    "\n",
    "#### Find and Replace\n",
    "\n",
    "#### Code Snippets\n",
    "\n",
    "#### Files"
   ],
   "metadata": {}
  },
  {
   "cell_type": "markdown",
   "source": [
    "### Features"
   ],
   "metadata": {}
  },
  {
   "cell_type": "markdown",
   "source": [
    "Once you run a cell, you can use any variables and functions in other cells."
   ],
   "metadata": {}
  },
  {
   "cell_type": "code",
   "execution_count": 3,
   "source": [
    "event_name = \"DELTA Summer Shorts\"\n",
    "workshop_topic = \"Google Colaboratory\""
   ],
   "outputs": [],
   "metadata": {}
  },
  {
   "cell_type": "code",
   "execution_count": 5,
   "source": [
    "welcome = f\"Welcome to our {event_name} session on {workshop_topic}!\"\n",
    "\n",
    "print(welcome)"
   ],
   "outputs": [
    {
     "output_type": "stream",
     "name": "stdout",
     "text": [
      "Welcome to our DELTA Summer Shorts session on Google Colaboratory!\n"
     ]
    }
   ],
   "metadata": {}
  },
  {
   "cell_type": "markdown",
   "source": [
    "By default, in Google Colab the last line in a code cell is printed. To print a statement that is not at the end of a code cell use the `print()` function."
   ],
   "metadata": {}
  },
  {
   "cell_type": "code",
   "execution_count": 6,
   "source": [
    "print('This string is printed using the print function')\n",
    "\n",
    "'This line is not printed'\n",
    "\n",
    "'This string is printed because it is the last line in a code cell'"
   ],
   "outputs": [
    {
     "output_type": "stream",
     "name": "stdout",
     "text": [
      "This line will print.\n"
     ]
    },
    {
     "output_type": "execute_result",
     "data": {
      "text/plain": [
       "'This is the last line, so it will also print.'"
      ]
     },
     "metadata": {},
     "execution_count": 6
    }
   ],
   "metadata": {}
  },
  {
   "cell_type": "markdown",
   "source": [
    "## Accessing data"
   ],
   "metadata": {}
  },
  {
   "cell_type": "markdown",
   "source": [
    "### Connect to Google Drive"
   ],
   "metadata": {}
  },
  {
   "cell_type": "markdown",
   "source": [
    "### Connect to Google Sheets"
   ],
   "metadata": {}
  },
  {
   "cell_type": "markdown",
   "source": [
    "### Connect to external data source"
   ],
   "metadata": {}
  },
  {
   "cell_type": "markdown",
   "source": [
    "## Sharing a notebook from Colab"
   ],
   "metadata": {}
  },
  {
   "cell_type": "markdown",
   "source": [
    "## Finding and opening notebooks in Colab"
   ],
   "metadata": {}
  },
  {
   "cell_type": "code",
   "execution_count": null,
   "source": [],
   "outputs": [],
   "metadata": {}
  }
 ],
 "metadata": {
  "kernelspec": {
   "name": "python3",
   "display_name": "Python 3.8.5 64-bit ('base': conda)"
  },
  "language_info": {
   "codemirror_mode": {
    "name": "ipython",
    "version": 3
   },
   "file_extension": ".py",
   "mimetype": "text/x-python",
   "name": "python",
   "nbconvert_exporter": "python",
   "pygments_lexer": "ipython3",
   "version": "3.8.5"
  },
  "interpreter": {
   "hash": "0bb8fac8a0c82f4f5ccbcc488a26fe869e7789c40997937e38e89b37cd70a2e8"
  }
 },
 "nbformat": 4,
 "nbformat_minor": 2
}