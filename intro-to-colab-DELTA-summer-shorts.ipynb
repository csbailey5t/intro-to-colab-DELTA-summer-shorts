{
 "cells": [
  {
   "cell_type": "markdown",
   "metadata": {},
   "source": [
    "# An Introduction to Google Colaboratory\n",
    "\n",
    "> This notebook contains materials originally developed for a virtual session at the NC State University DELTA [Summer Shorts in Instructional Technologies 2021](https://sites.google.com/ncsu.edu/summer-shorts-2021) delivered on August 6, 2021. Summer Shorts in Instructional Technologies focuses on leveraging innovative NC State learning technologies and strategies to improve student success.\n",
    "\n",
    "This is an interactive, Python computational notebook that provides a hands-on demonstration of using Google Colaboratory, or “Colab” for short. Colab is a computational notebook environment that allows users to run Python code in the browser without having to download or install anything."
   ]
  },
  {
   "cell_type": "markdown",
   "metadata": {},
   "source": [
    "## About the Workshop\n",
    "- agenda and objectives\n",
    "- expectations"
   ]
  },
  {
   "cell_type": "markdown",
   "metadata": {},
   "source": [
    "## What is a computational notebook and what does Google Colab offer?"
   ]
  },
  {
   "cell_type": "markdown",
   "metadata": {},
   "source": [
    "## A brief overview of a Python notebook and the Colab interface"
   ]
  },
  {
   "cell_type": "markdown",
   "metadata": {},
   "source": [
    "### Cells"
   ]
  },
  {
   "cell_type": "markdown",
   "metadata": {},
   "source": [
    "#### Text Cells\n",
    "Text cells contain markdown or HTML, and can be used to add context and formatting to your notebook. Double-click on a text cell to edit it."
   ]
  },
  {
   "cell_type": "markdown",
   "metadata": {},
   "source": [
    "See the [Markdown Guide](https://www.markdownguide.org/cheat-sheet/) to learn more about the Markdown syntax. Some examples of markdown:\n",
    "\n",
    "- **Bold**\n",
    "- _Italics_\n",
    "- [Links](https://www.lib.ncsu.edu/services/data-visualization)\n",
    "- `code`\n",
    " 1. Ordered lists\n",
    " 2. More ordered lists"
   ]
  },
  {
   "cell_type": "markdown",
   "metadata": {},
   "source": [
    "#### Code Cells\n",
    "Code cells contain lines of code, including comments. Output appears just below the cell."
   ]
  },
  {
   "cell_type": "code",
   "execution_count": 10,
   "metadata": {},
   "outputs": [
    {
     "name": "stdout",
     "output_type": "stream",
     "text": [
      "chicken\n",
      "cheeta\n",
      "crab\n"
     ]
    }
   ],
   "source": [
    "# Create a list of words\n",
    "animals = [\"chicken\", \"lizard\", \"tiger\", \"cheeta\", \"penguin\", \"crab\"]\n",
    "\n",
    "# For each word in the list\n",
    "for word in animals:\n",
    "    # If the word starts with the letter c\n",
    "    if word.startswith(\"c\" or \"C\"):\n",
    "        # Print out the word\n",
    "        print(word)"
   ]
  },
  {
   "cell_type": "markdown",
   "metadata": {},
   "source": [
    "### Colab UI"
   ]
  },
  {
   "cell_type": "markdown",
   "metadata": {},
   "source": [
    "#### Running a cell\n",
    "To run a code cell, you can press the \"play\" button to the left of the cell or use `Ctrl-Enter` for Windows and `Command-Enter` for Macs. For more options, including running multiple cells, use the Runtime tab in the top menu."
   ]
  },
  {
   "cell_type": "code",
   "execution_count": null,
   "metadata": {},
   "outputs": [],
   "source": [
    "# Try running this cell\n",
    "print(\"This cell ran\")"
   ]
  },
  {
   "cell_type": "markdown",
   "metadata": {},
   "source": [
    "#### Table of Contents\n",
    "\n",
    "#### Find and Replace\n",
    "\n",
    "#### Code Snippets\n",
    "\n",
    "#### Files"
   ]
  },
  {
   "cell_type": "markdown",
   "metadata": {},
   "source": [
    "### Features"
   ]
  },
  {
   "cell_type": "markdown",
   "metadata": {},
   "source": [
    "Once you run a cell, you can use any variables and functions in other cells."
   ]
  },
  {
   "cell_type": "code",
   "execution_count": 3,
   "metadata": {},
   "outputs": [],
   "source": [
    "event_name = \"DELTA Summer Shorts\"\n",
    "workshop_topic = \"Google Colaboratory\""
   ]
  },
  {
   "cell_type": "code",
   "execution_count": 5,
   "metadata": {},
   "outputs": [
    {
     "name": "stdout",
     "output_type": "stream",
     "text": [
      "Welcome to our DELTA Summer Shorts session on Google Colaboratory!\n"
     ]
    }
   ],
   "source": [
    "welcome = f\"Welcome to our {event_name} session on {workshop_topic}!\"\n",
    "\n",
    "print(welcome)"
   ]
  },
  {
   "cell_type": "markdown",
   "metadata": {},
   "source": [
    "By default, in Google Colab the last line in a code cell is printed. To print a statement that is not at the end of a code cell use the `print()` function."
   ]
  },
  {
   "cell_type": "code",
   "execution_count": 6,
   "metadata": {},
   "outputs": [
    {
     "name": "stdout",
     "output_type": "stream",
     "text": [
      "This line will print.\n"
     ]
    },
    {
     "data": {
      "text/plain": [
       "'This is the last line, so it will also print.'"
      ]
     },
     "execution_count": 6,
     "metadata": {},
     "output_type": "execute_result"
    }
   ],
   "source": [
    "print('This string is printed using the print function')\n",
    "\n",
    "'This line is not printed'\n",
    "\n",
    "'This string is printed because it is the last line in a code cell'"
   ]
  },
  {
   "cell_type": "markdown",
   "metadata": {},
   "source": [
    "## Accessing data"
   ]
  },
  {
   "cell_type": "markdown",
   "metadata": {},
   "source": [
    "### Connect to Google Drive"
   ]
  },
  {
   "cell_type": "markdown",
   "metadata": {},
   "source": [
    "### Connect to Google Sheets"
   ]
  },
  {
   "cell_type": "markdown",
   "metadata": {},
   "source": [
    "### Connect to external data source"
   ]
  },
  {
   "cell_type": "markdown",
   "metadata": {},
   "source": [
    "## Sharing a notebook from Colab"
   ]
  },
  {
   "cell_type": "markdown",
   "metadata": {},
   "source": [
    "## Finding and opening notebooks in Colab"
   ]
  },
  {
   "cell_type": "code",
   "execution_count": null,
   "metadata": {},
   "outputs": [],
   "source": []
  }
 ],
 "metadata": {
  "kernelspec": {
   "display_name": "Python 3",
   "language": "python",
   "name": "python3"
  },
  "language_info": {
   "codemirror_mode": {
    "name": "ipython",
    "version": 3
   },
   "file_extension": ".py",
   "mimetype": "text/x-python",
   "name": "python",
   "nbconvert_exporter": "python",
   "pygments_lexer": "ipython3",
   "version": "3.8.5"
  }
 },
 "nbformat": 4,
 "nbformat_minor": 2
}
